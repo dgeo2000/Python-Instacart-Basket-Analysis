{
 "cells": [
  {
   "cell_type": "markdown",
   "id": "2c1876de-4656-4069-9c6a-ec4c40a9599b",
   "metadata": {},
   "source": [
    "# 01. Importing Libraries"
   ]
  },
  {
   "cell_type": "code",
   "execution_count": 8,
   "id": "f13602b6-1c13-4872-bb00-41150ab3e4e4",
   "metadata": {},
   "outputs": [],
   "source": [
    "# Import libraries\n",
    "import pandas as pd\n",
    "import numpy as np\n",
    "import os"
   ]
  },
  {
   "cell_type": "markdown",
   "id": "7123fc80-3464-4f49-8f60-d481c9d02c3d",
   "metadata": {},
   "source": [
    "# 02. Data Types"
   ]
  },
  {
   "cell_type": "code",
   "execution_count": 10,
   "id": "264e7ece-63b9-41b2-9b9c-960caae6204e",
   "metadata": {},
   "outputs": [
    {
     "name": "stdout",
     "output_type": "stream",
     "text": [
      "100\n"
     ]
    }
   ],
   "source": [
    "x = 90 + 10\n",
    "print(x)"
   ]
  },
  {
   "cell_type": "code",
   "execution_count": 11,
   "id": "ebe8d48b-0ac4-480f-8703-3418c1b73f5c",
   "metadata": {},
   "outputs": [
    {
     "name": "stdout",
     "output_type": "stream",
     "text": [
      "100\n"
     ]
    }
   ],
   "source": [
    "x = 150 - 50\n",
    "print(x)"
   ]
  },
  {
   "cell_type": "code",
   "execution_count": 12,
   "id": "eb560a8d-1ec0-4b71-9deb-a6b4b5ed9a94",
   "metadata": {},
   "outputs": [
    {
     "name": "stdout",
     "output_type": "stream",
     "text": [
      "100\n"
     ]
    }
   ],
   "source": [
    "x = 50 + 50\n",
    "print(x)"
   ]
  },
  {
   "cell_type": "code",
   "execution_count": 14,
   "id": "3148e5b7-5024-4160-b193-f4c4ecc3fa6f",
   "metadata": {},
   "outputs": [
    {
     "name": "stdout",
     "output_type": "stream",
     "text": [
      "0.5681462140992166\n"
     ]
    }
   ],
   "source": [
    "x = 3.264\n",
    "y = 5.745\n",
    "print(x/y)"
   ]
  },
  {
   "cell_type": "code",
   "execution_count": 15,
   "id": "adc430bf-a39d-4c14-ac80-5c8e83a06200",
   "metadata": {},
   "outputs": [
    {
     "name": "stdout",
     "output_type": "stream",
     "text": [
      "David\n"
     ]
    }
   ],
   "source": [
    "x = 'Da'\n",
    "y = 'vid'\n",
    "print(x+y)"
   ]
  },
  {
   "cell_type": "code",
   "execution_count": 17,
   "id": "ec4a485a-9b6d-467c-9d10-fcb5db7c2de7",
   "metadata": {},
   "outputs": [
    {
     "name": "stdout",
     "output_type": "stream",
     "text": [
      "Happy Birthday!\n"
     ]
    }
   ],
   "source": [
    "x = 'Happy '\n",
    "y = 'Birthday!'\n",
    "print(x+y)"
   ]
  },
  {
   "cell_type": "code",
   "execution_count": 19,
   "id": "d7045f15-1a93-4713-91c5-74a8b9dc6f4d",
   "metadata": {},
   "outputs": [
    {
     "name": "stdout",
     "output_type": "stream",
     "text": [
      "Hello, world!\n"
     ]
    }
   ],
   "source": [
    "x = 'Hello, '\n",
    "y = 'world!'\n",
    "print(x+y)"
   ]
  },
  {
   "cell_type": "code",
   "execution_count": 26,
   "id": "a43e19d5-9cb9-41cc-8845-b2ed53316489",
   "metadata": {},
   "outputs": [
    {
     "name": "stdout",
     "output_type": "stream",
     "text": [
      "David\n",
      "David\n",
      "David\n",
      "David\n",
      "David\n",
      "David\n",
      "David\n",
      "David\n",
      "David\n",
      "David\n",
      "David\n",
      "David\n",
      "David\n",
      "David\n",
      "David\n",
      "David\n",
      "David\n",
      "David\n",
      "David\n",
      "David\n",
      "David\n",
      "David\n",
      "David\n",
      "David\n",
      "David\n",
      "David\n",
      "David\n",
      "David\n",
      "David\n",
      "David\n",
      "David\n",
      "David\n",
      "David\n",
      "David\n",
      "David\n",
      "David\n",
      "David\n",
      "David\n",
      "David\n",
      "David\n",
      "David\n",
      "David\n",
      "David\n",
      "David\n",
      "David\n",
      "David\n",
      "David\n",
      "David\n",
      "David\n",
      "David\n",
      "David\n",
      "David\n",
      "David\n",
      "David\n",
      "David\n",
      "David\n",
      "David\n",
      "David\n",
      "David\n",
      "David\n",
      "David\n",
      "David\n",
      "David\n",
      "David\n",
      "David\n",
      "David\n",
      "David\n",
      "David\n",
      "David\n",
      "David\n",
      "David\n",
      "David\n",
      "David\n",
      "David\n",
      "David\n",
      "David\n",
      "David\n",
      "David\n",
      "David\n",
      "David\n",
      "David\n",
      "David\n",
      "David\n",
      "David\n",
      "David\n",
      "David\n",
      "David\n",
      "David\n",
      "David\n",
      "David\n",
      "David\n",
      "David\n",
      "David\n",
      "David\n",
      "David\n",
      "David\n",
      "David\n",
      "David\n",
      "David\n",
      "David\n"
     ]
    }
   ],
   "source": [
    "# Bonus Question\n",
    "for i in range(100):\n",
    "    print('David')"
   ]
  },
  {
   "cell_type": "code",
   "execution_count": null,
   "id": "b5ef7e46-4e1f-4fdf-973b-3eb24f18a370",
   "metadata": {},
   "outputs": [],
   "source": []
  }
 ],
 "metadata": {
  "kernelspec": {
   "display_name": "Python 3 (ipykernel)",
   "language": "python",
   "name": "python3"
  },
  "language_info": {
   "codemirror_mode": {
    "name": "ipython",
    "version": 3
   },
   "file_extension": ".py",
   "mimetype": "text/x-python",
   "name": "python",
   "nbconvert_exporter": "python",
   "pygments_lexer": "ipython3",
   "version": "3.11.7"
  }
 },
 "nbformat": 4,
 "nbformat_minor": 5
}
